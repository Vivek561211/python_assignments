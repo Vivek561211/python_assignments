{
 "cells": [
  {
   "cell_type": "markdown",
   "metadata": {},
   "source": [
    "# Lab Assignment:\n",
    "Take/Prepare any text files for any real life application. For Ex. “Stud.txt”, “Placement.csv” and “Result.csv” files for result Analysis. Combine into “StudentDetails.csv”. Perform all statistical analysis (Average, Max, Min, Count, Sum, Percentage) on it"
   ]
  },
  {
   "cell_type": "markdown",
   "metadata": {},
   "source": [
    "# 1.  Read Student Info File"
   ]
  },
  {
   "cell_type": "code",
   "execution_count": 1,
   "metadata": {},
   "outputs": [
    {
     "name": "stdout",
     "output_type": "stream",
     "text": [
      "[['Roll No', 'name', 'Gender', 'DOB'], ['1', 'John', 'Male', '05-04-1988'], ['2', 'Mayur', 'Male', '04-05-1987'], ['3', 'Mangesh', 'Male', '25-05-1989'], ['4', 'Jessica', 'Female', '12-08-1990'], ['5', 'Jennifer', 'Female', '02-09-1989'], ['6', 'Ramesh', 'Male', '03-09-1989'], ['7', 'Suresh', 'Male', '04-09-1990'], ['8', 'Ganesh', 'Male', '05-10-1989'], ['9', 'Komal', 'Female', '06-09-1989'], ['10', 'Mayuri', 'Female', '07-02-1988']]\n"
     ]
    }
   ],
   "source": [
    "# Read File\n",
    "file=open('stud_info.csv','r')\n",
    "info_dataset=[]\n",
    "while True:\n",
    "    data=file.readline()\n",
    "    if data:\n",
    "        info_dataset.append(data.replace(\"\\n\", \"\").split(','))        \n",
    "    else:\n",
    "        break\n",
    "print(info_dataset)"
   ]
  },
  {
   "cell_type": "code",
   "execution_count": 2,
   "metadata": {},
   "outputs": [],
   "source": [
    "RollNo=[]\n",
    "Name=[]\n",
    "Gender=[]\n",
    "DOB=[]"
   ]
  },
  {
   "cell_type": "code",
   "execution_count": 3,
   "metadata": {},
   "outputs": [],
   "source": [
    "for row in info_dataset[1:]:\n",
    "    RollNo.append(row[0])\n",
    "    Name.append(row[1])\n",
    "    Gender.append(row[2])\n",
    "    DOB.append(row[3])"
   ]
  },
  {
   "cell_type": "code",
   "execution_count": 4,
   "metadata": {},
   "outputs": [
    {
     "name": "stdout",
     "output_type": "stream",
     "text": [
      "['1', '2', '3', '4', '5', '6', '7', '8', '9', '10']\n",
      "['John', 'Mayur', 'Mangesh', 'Jessica', 'Jennifer', 'Ramesh', 'Suresh', 'Ganesh', 'Komal', 'Mayuri']\n",
      "['Male', 'Male', 'Male', 'Female', 'Female', 'Male', 'Male', 'Male', 'Female', 'Female']\n",
      "['05-04-1988', '04-05-1987', '25-05-1989', '12-08-1990', '02-09-1989', '03-09-1989', '04-09-1990', '05-10-1989', '06-09-1989', '07-02-1988']\n"
     ]
    }
   ],
   "source": [
    "print(RollNo)\n",
    "print(Name)\n",
    "print(Gender)\n",
    "print(DOB)"
   ]
  },
  {
   "cell_type": "markdown",
   "metadata": {},
   "source": [
    "# 2. Read Student Marks"
   ]
  },
  {
   "cell_type": "code",
   "execution_count": 5,
   "metadata": {},
   "outputs": [
    {
     "name": "stdout",
     "output_type": "stream",
     "text": [
      "[['Roll', 'Maths', 'Physics', 'Chemistry', 'Total', 'Percentage'], ['1', '55', '45', '56', '156', '52.00'], ['2', '75', '55', '55', '185', '61.67'], ['3', '25', '54', '89', '168', '56.00'], ['4', '78', '55', '86', '219', '73.00'], ['5', '58', '96', '78', '232', '77.33'], ['6', '88', '78', '58', '224', '74.67'], ['7', '56', '89', '69', '214', '71.33'], ['8', '54', '55', '88', '197', '65.67'], ['9', '46', '66', '65', '177', '59.00'], ['10', '89', '87', '54', '230', '76.67']]\n"
     ]
    }
   ],
   "source": [
    "# Read Student Marks\n",
    "file=open('student_marks.csv','r')\n",
    "marks_dataset=[]\n",
    "while True:\n",
    "    data=file.readline()\n",
    "    if data:\n",
    "        marks_dataset.append(data.replace(\"\\n\", \"\").split(','))        \n",
    "    else:\n",
    "        break\n",
    "print(marks_dataset)"
   ]
  },
  {
   "cell_type": "code",
   "execution_count": 6,
   "metadata": {},
   "outputs": [],
   "source": [
    "Maths=[]\n",
    "Physics=[]\n",
    "Chemistry=[]\n",
    "Total=[]\n",
    "Percentage=[]"
   ]
  },
  {
   "cell_type": "code",
   "execution_count": 7,
   "metadata": {},
   "outputs": [],
   "source": [
    "for row in marks_dataset[1:]:\n",
    "    Maths.append(row[1])\n",
    "    Physics.append(row[2])\n",
    "    Chemistry.append(row[3])\n",
    "    Total.append(row[4])\n",
    "    Percentage.append(row[5])"
   ]
  },
  {
   "cell_type": "code",
   "execution_count": 8,
   "metadata": {},
   "outputs": [
    {
     "name": "stdout",
     "output_type": "stream",
     "text": [
      "['55', '75', '25', '78', '58', '88', '56', '54', '46', '89']\n",
      "['45', '55', '54', '55', '96', '78', '89', '55', '66', '87']\n",
      "['56', '55', '89', '86', '78', '58', '69', '88', '65', '54']\n",
      "['156', '185', '168', '219', '232', '224', '214', '197', '177', '230']\n",
      "['52.00', '61.67', '56.00', '73.00', '77.33', '74.67', '71.33', '65.67', '59.00', '76.67']\n"
     ]
    }
   ],
   "source": [
    "print(Maths)\n",
    "print(Physics)\n",
    "print(Chemistry)\n",
    "print(Total)\n",
    "print(Percentage)"
   ]
  },
  {
   "cell_type": "markdown",
   "metadata": {},
   "source": [
    "# 3. Read Student Placement File"
   ]
  },
  {
   "cell_type": "code",
   "execution_count": 9,
   "metadata": {},
   "outputs": [
    {
     "name": "stdout",
     "output_type": "stream",
     "text": [
      "[['Roll No', 'Company', 'JobRole', 'Package'], ['1', 'Infosys', 'Data Analyst', '10.2'], ['2', 'TCS', 'Java Developer', '9.6'], ['3', 'TCS', 'Data Scientist', '12.60'], ['4', 'Infosys', 'Data Analyst', '10.2'], ['5', 'Oracle', 'Java Developer', '9.6'], ['6', 'Oracle', 'Data Scientist', '12.60'], ['7', 'TCS', 'Tester', '6.50'], ['8', 'Infosys', 'Tester', '6.51'], ['9', 'Mindtree', 'Database Admin', '8.30'], ['10', 'Mindtree', 'Database Admin', '8.31']]\n"
     ]
    }
   ],
   "source": [
    "# Read Student Marks\n",
    "file=open('stud_placement.csv','r')\n",
    "placement_dataset=[]\n",
    "while True:\n",
    "    data=file.readline()\n",
    "    if data:\n",
    "        placement_dataset.append(data.replace(\"\\n\", \"\").split(','))        \n",
    "    else:\n",
    "        break\n",
    "print(placement_dataset)"
   ]
  },
  {
   "cell_type": "code",
   "execution_count": 10,
   "metadata": {},
   "outputs": [],
   "source": [
    "Company=[]\n",
    "JobRole=[]\n",
    "Package=[]"
   ]
  },
  {
   "cell_type": "code",
   "execution_count": 11,
   "metadata": {},
   "outputs": [],
   "source": [
    "for row in placement_dataset[1:]:\n",
    "    Company.append(row[1])\n",
    "    JobRole.append(row[2])\n",
    "    Package.append(row[3])"
   ]
  },
  {
   "cell_type": "code",
   "execution_count": 12,
   "metadata": {},
   "outputs": [
    {
     "name": "stdout",
     "output_type": "stream",
     "text": [
      "['Infosys', 'TCS', 'TCS', 'Infosys', 'Oracle', 'Oracle', 'TCS', 'Infosys', 'Mindtree', 'Mindtree']\n",
      "['Data Analyst', 'Java Developer', 'Data Scientist', 'Data Analyst', 'Java Developer', 'Data Scientist', 'Tester', 'Tester', 'Database Admin', 'Database Admin']\n",
      "['10.2', '9.6', '12.60', '10.2', '9.6', '12.60', '6.50', '6.51', '8.30', '8.31']\n"
     ]
    }
   ],
   "source": [
    "print(Company)\n",
    "print(JobRole)\n",
    "print(Package)"
   ]
  },
  {
   "cell_type": "code",
   "execution_count": 13,
   "metadata": {},
   "outputs": [],
   "source": [
    "studentdata=[]\n",
    "studentdata.append(RollNo)\n",
    "studentdata.append(Name)\n",
    "studentdata.append(Gender)\n",
    "studentdata.append(DOB)\n",
    "studentdata.append(Maths)\n",
    "studentdata.append(Physics)\n",
    "studentdata.append(Chemistry)\n",
    "studentdata.append(Total)\n",
    "studentdata.append(Percentage)\n",
    "studentdata.append(Company)\n",
    "studentdata.append(JobRole)\n",
    "studentdata.append(Package)"
   ]
  },
  {
   "cell_type": "code",
   "execution_count": 14,
   "metadata": {},
   "outputs": [
    {
     "data": {
      "text/plain": [
       "[['1', '2', '3', '4', '5', '6', '7', '8', '9', '10'],\n",
       " ['John',\n",
       "  'Mayur',\n",
       "  'Mangesh',\n",
       "  'Jessica',\n",
       "  'Jennifer',\n",
       "  'Ramesh',\n",
       "  'Suresh',\n",
       "  'Ganesh',\n",
       "  'Komal',\n",
       "  'Mayuri'],\n",
       " ['Male',\n",
       "  'Male',\n",
       "  'Male',\n",
       "  'Female',\n",
       "  'Female',\n",
       "  'Male',\n",
       "  'Male',\n",
       "  'Male',\n",
       "  'Female',\n",
       "  'Female'],\n",
       " ['05-04-1988',\n",
       "  '04-05-1987',\n",
       "  '25-05-1989',\n",
       "  '12-08-1990',\n",
       "  '02-09-1989',\n",
       "  '03-09-1989',\n",
       "  '04-09-1990',\n",
       "  '05-10-1989',\n",
       "  '06-09-1989',\n",
       "  '07-02-1988'],\n",
       " ['55', '75', '25', '78', '58', '88', '56', '54', '46', '89'],\n",
       " ['45', '55', '54', '55', '96', '78', '89', '55', '66', '87'],\n",
       " ['56', '55', '89', '86', '78', '58', '69', '88', '65', '54'],\n",
       " ['156', '185', '168', '219', '232', '224', '214', '197', '177', '230'],\n",
       " ['52.00',\n",
       "  '61.67',\n",
       "  '56.00',\n",
       "  '73.00',\n",
       "  '77.33',\n",
       "  '74.67',\n",
       "  '71.33',\n",
       "  '65.67',\n",
       "  '59.00',\n",
       "  '76.67'],\n",
       " ['Infosys',\n",
       "  'TCS',\n",
       "  'TCS',\n",
       "  'Infosys',\n",
       "  'Oracle',\n",
       "  'Oracle',\n",
       "  'TCS',\n",
       "  'Infosys',\n",
       "  'Mindtree',\n",
       "  'Mindtree'],\n",
       " ['Data Analyst',\n",
       "  'Java Developer',\n",
       "  'Data Scientist',\n",
       "  'Data Analyst',\n",
       "  'Java Developer',\n",
       "  'Data Scientist',\n",
       "  'Tester',\n",
       "  'Tester',\n",
       "  'Database Admin',\n",
       "  'Database Admin'],\n",
       " ['10.2',\n",
       "  '9.6',\n",
       "  '12.60',\n",
       "  '10.2',\n",
       "  '9.6',\n",
       "  '12.60',\n",
       "  '6.50',\n",
       "  '6.51',\n",
       "  '8.30',\n",
       "  '8.31']]"
      ]
     },
     "execution_count": 14,
     "metadata": {},
     "output_type": "execute_result"
    }
   ],
   "source": [
    "studentdata"
   ]
  },
  {
   "cell_type": "markdown",
   "metadata": {},
   "source": [
    "# Writing Data to New File"
   ]
  },
  {
   "cell_type": "code",
   "execution_count": 63,
   "metadata": {},
   "outputs": [],
   "source": [
    "fw=open(\"StudentDetails.csv\",\"w\")"
   ]
  },
  {
   "cell_type": "code",
   "execution_count": 83,
   "metadata": {},
   "outputs": [],
   "source": [
    "data_to_write=[]\n",
    "for i in range(len(studentdata[0])):# 10 rows\n",
    "    row=list()\n",
    "    for j in range(len(studentdata)):#12 col\n",
    "        data=studentdata[j][i]\n",
    "        row.append(data)\n",
    "    row.append('\\n')\n",
    "    data_to_write.append(\",\".join(row))\n"
   ]
  },
  {
   "cell_type": "code",
   "execution_count": 84,
   "metadata": {},
   "outputs": [
    {
     "data": {
      "text/plain": [
       "['1,John,Male,05-04-1988,55,45,56,156,52.00,Infosys,Data Analyst,10.2,\\n',\n",
       " '2,Mayur,Male,04-05-1987,75,55,55,185,61.67,TCS,Java Developer,9.6,\\n',\n",
       " '3,Mangesh,Male,25-05-1989,25,54,89,168,56.00,TCS,Data Scientist,12.60,\\n',\n",
       " '4,Jessica,Female,12-08-1990,78,55,86,219,73.00,Infosys,Data Analyst,10.2,\\n',\n",
       " '5,Jennifer,Female,02-09-1989,58,96,78,232,77.33,Oracle,Java Developer,9.6,\\n',\n",
       " '6,Ramesh,Male,03-09-1989,88,78,58,224,74.67,Oracle,Data Scientist,12.60,\\n',\n",
       " '7,Suresh,Male,04-09-1990,56,89,69,214,71.33,TCS,Tester,6.50,\\n',\n",
       " '8,Ganesh,Male,05-10-1989,54,55,88,197,65.67,Infosys,Tester,6.51,\\n',\n",
       " '9,Komal,Female,06-09-1989,46,66,65,177,59.00,Mindtree,Database Admin,8.30,\\n',\n",
       " '10,Mayuri,Female,07-02-1988,89,87,54,230,76.67,Mindtree,Database Admin,8.31,\\n']"
      ]
     },
     "execution_count": 84,
     "metadata": {},
     "output_type": "execute_result"
    }
   ],
   "source": [
    "data_to_write"
   ]
  },
  {
   "cell_type": "code",
   "execution_count": 85,
   "metadata": {},
   "outputs": [],
   "source": [
    "fw.writelines(data_to_write)"
   ]
  },
  {
   "cell_type": "code",
   "execution_count": 86,
   "metadata": {},
   "outputs": [],
   "source": [
    "fw.close()"
   ]
  },
  {
   "cell_type": "code",
   "execution_count": null,
   "metadata": {},
   "outputs": [],
   "source": []
  }
 ],
 "metadata": {
  "kernelspec": {
   "display_name": "Python 3",
   "language": "python",
   "name": "python3"
  },
  "language_info": {
   "codemirror_mode": {
    "name": "ipython",
    "version": 3
   },
   "file_extension": ".py",
   "mimetype": "text/x-python",
   "name": "python",
   "nbconvert_exporter": "python",
   "pygments_lexer": "ipython3",
   "version": "3.8.8"
  }
 },
 "nbformat": 4,
 "nbformat_minor": 2
}
